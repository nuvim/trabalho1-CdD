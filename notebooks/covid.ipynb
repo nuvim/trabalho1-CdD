{
 "cells": [
  {
   "cell_type": "code",
   "execution_count": null,
   "id": "e766dfa5",
   "metadata": {
    "vscode": {
     "languageId": "plaintext"
    }
   },
   "outputs": [],
   "source": [
    "import pandas as pd\n",
    "\n",
    "# link direto para o dataset que contem os dados da covid19\n",
    "url = 'https://data.brasil.io/dataset/covid19/caso_full.csv.gz'\n",
    "print(\"Download e carregamento dos dados da URL\")\n",
    "\n",
    "# descompactação do arquivo\n",
    "df_covid = pd.read_csv(url, compression='gzip', low_memory=False)\n",
    "\n",
    "print(\"\\nDados carregados\")\n",
    "\n",
    "display(df_covid.head())"
   ]
  },
  {
   "cell_type": "code",
   "execution_count": null,
   "id": "a7d110e8",
   "metadata": {
    "vscode": {
     "languageId": "plaintext"
    }
   },
   "outputs": [],
   "source": [
    "print(\"Informações Gerais e Tipos de Dados\")\n",
    "df_covid.info(verbose=True, show_counts=True)\n",
    "\n",
    "print(\"\\n\\nContagem de Valores Nulos por Coluna\")\n",
    "print(df_covid.isnull().sum())\n",
    "\n",
    "print(\"\\n\\nNomes de todas as colunas\")\n",
    "print(df_covid.columns.tolist())"
   ]
  }
 ],
 "metadata": {
  "language_info": {
   "name": "python"
  }
 },
 "nbformat": 4,
 "nbformat_minor": 5
}
