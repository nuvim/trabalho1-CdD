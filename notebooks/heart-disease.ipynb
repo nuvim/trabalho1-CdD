{
 "cells": [
  {
   "cell_type": "code",
   "execution_count": null,
   "id": "ab737fbe",
   "metadata": {
    "vscode": {
     "languageId": "plaintext"
    }
   },
   "outputs": [],
   "source": [
    "import pandas as pd\n",
    "import numpy as np\n",
    "\n",
    "column_names = [ 'age', 'sex', 'cp', 'trestbps', 'chol', 'fbs', 'restecg', 'thalach', 'exang', 'oldpeak', 'slope', 'ca', 'thal', 'num']\n",
    "\n",
    "# virgula como separador e os valores ausentes são marcados com '?'\n",
    "df_heart = pd.read_csv('../data/raw/processed.cleveland.data', header=None, names=column_names, na_values='?')\n",
    "\n",
    "df_heart.head()"
   ]
  },
  {
   "cell_type": "code",
   "execution_count": null,
   "id": "20319d06",
   "metadata": {
    "vscode": {
     "languageId": "plaintext"
    }
   },
   "outputs": [],
   "source": [
    "print(\"Informações Gerais e Tipos de Dados\")\n",
    "df_heart.info()\n",
    "\n",
    "print(\"\\n\\nContagem de Valores Nulos por Coluna\")\n",
    "#dados faltantes\n",
    "print(df_heart.isnull().sum())\n",
    "\n",
    "print(\"\\n\\n Resumo Estatístico das Colunas Numéricas\")\n",
    "df_heart.describe()"
   ]
  }
 ],
 "metadata": {
  "language_info": {
   "name": "python"
  }
 },
 "nbformat": 4,
 "nbformat_minor": 5
}
