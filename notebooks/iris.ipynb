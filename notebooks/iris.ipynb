{
 "cells": [
  {
   "cell_type": "code",
   "execution_count": null,
   "id": "44a2fa5a",
   "metadata": {
    "vscode": {
     "languageId": "plaintext"
    }
   },
   "outputs": [],
   "source": [
    "import pandas as pd\n",
    "column_names = [ 'sepal_length', 'sepal_width', 'petal_length', 'petal_width', 'class']\n",
    "\n",
    "df_iris = pd.read_csv('../data/raw/iris.data', header=None, names=column_names)\n",
    "\n",
    "df_iris.head()"
   ]
  },
  {
   "cell_type": "code",
   "execution_count": null,
   "id": "5e9895f5",
   "metadata": {
    "vscode": {
     "languageId": "plaintext"
    }
   },
   "outputs": [],
   "source": [
    "print(\"Informações Gerais e Tipos de Dados\")\n",
    "df_iris.info()\n",
    "\n",
    "print(\"\\n\\n Contagem de Valores Nulos por Coluna\")\n",
    "print(df_iris.isnull().sum())\n",
    "\n",
    "print(\"\\n\\n Resumo Estatístico das Colunas Numéricas\")\n",
    "df_iris.describe()"
   ]
  }
 ],
 "metadata": {
  "language_info": {
   "name": "python"
  }
 },
 "nbformat": 4,
 "nbformat_minor": 5
}
